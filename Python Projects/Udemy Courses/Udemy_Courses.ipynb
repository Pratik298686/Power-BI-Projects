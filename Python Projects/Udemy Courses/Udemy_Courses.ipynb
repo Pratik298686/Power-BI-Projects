{
 "cells": [
  {
   "cell_type": "code",
   "execution_count": null,
   "id": "a9438061",
   "metadata": {},
   "outputs": [],
   "source": [
    "import pandas as pd\n",
    "import seaborn as sns\n",
    "import matplotlib.pyplot as plt"
   ]
  },
  {
   "cell_type": "code",
   "execution_count": null,
   "id": "c2cafc38",
   "metadata": {},
   "outputs": [],
   "source": [
    "data = pd.read_csv('udemy_courses.csv', parse_dates=['published_timestamp'])"
   ]
  },
  {
   "cell_type": "code",
   "execution_count": null,
   "id": "b690f1aa",
   "metadata": {},
   "outputs": [],
   "source": [
    "data.dtypes"
   ]
  },
  {
   "cell_type": "markdown",
   "id": "a8e62c0f",
   "metadata": {},
   "source": [
    "### 1. Display Top 10 Rows of The Dataset"
   ]
  },
  {
   "cell_type": "code",
   "execution_count": null,
   "id": "98d700b6",
   "metadata": {},
   "outputs": [],
   "source": [
    "data.head(10)"
   ]
  },
  {
   "cell_type": "markdown",
   "id": "94529ab0",
   "metadata": {},
   "source": [
    "### 2. Check Last 5 Rows of The Datasets"
   ]
  },
  {
   "cell_type": "code",
   "execution_count": null,
   "id": "385ab61c",
   "metadata": {},
   "outputs": [],
   "source": [
    "data.tail()"
   ]
  },
  {
   "cell_type": "markdown",
   "id": "59eaba25",
   "metadata": {},
   "source": [
    "### 3.  Find Shape of Our Dataset (Number of Rows And Number of Columns)"
   ]
  },
  {
   "cell_type": "code",
   "execution_count": null,
   "id": "55895500",
   "metadata": {},
   "outputs": [],
   "source": [
    "data.shape"
   ]
  },
  {
   "cell_type": "code",
   "execution_count": null,
   "id": "dce6f8f7",
   "metadata": {},
   "outputs": [],
   "source": [
    "print(\"Number of Rows\", data.shape[0])\n",
    "print(\"Number of Columns\", data.shape[1])"
   ]
  },
  {
   "cell_type": "markdown",
   "id": "20d177f8",
   "metadata": {},
   "source": [
    "### "
   ]
  },
  {
   "cell_type": "markdown",
   "id": "00bd7902",
   "metadata": {},
   "source": [
    "### 4. Getting Information About Our Dataset Like Total Number Rows, Total Number of Columns, Datatypes of Each Column And Memory Requirement"
   ]
  },
  {
   "cell_type": "code",
   "execution_count": null,
   "id": "6e2e9d82",
   "metadata": {},
   "outputs": [],
   "source": [
    "data.info()"
   ]
  },
  {
   "cell_type": "markdown",
   "id": "d0b79c3f",
   "metadata": {},
   "source": [
    "### 5. Check Null Values In The Dataset"
   ]
  },
  {
   "cell_type": "code",
   "execution_count": null,
   "id": "b008a36f",
   "metadata": {},
   "outputs": [],
   "source": [
    "data.isnull().values.any()"
   ]
  },
  {
   "cell_type": "code",
   "execution_count": null,
   "id": "74a44eca",
   "metadata": {},
   "outputs": [],
   "source": [
    "data.isnull().sum()"
   ]
  },
  {
   "cell_type": "code",
   "execution_count": null,
   "id": "428f09f3",
   "metadata": {},
   "outputs": [],
   "source": [
    "sns.heatmap(data.isnull())"
   ]
  },
  {
   "cell_type": "markdown",
   "id": "177f5b43",
   "metadata": {},
   "source": [
    "### 6. Check For Duplicate Data and Drop Them"
   ]
  },
  {
   "cell_type": "code",
   "execution_count": null,
   "id": "9c79232d",
   "metadata": {},
   "outputs": [],
   "source": [
    "dup = data.duplicated().any()\n",
    "print(dup)"
   ]
  },
  {
   "cell_type": "code",
   "execution_count": null,
   "id": "a3060242",
   "metadata": {},
   "outputs": [],
   "source": [
    "data = data.drop_duplicates()"
   ]
  },
  {
   "cell_type": "code",
   "execution_count": null,
   "id": "4e4474fe",
   "metadata": {},
   "outputs": [],
   "source": [
    "dup = data.duplicated().any()\n",
    "print(dup)"
   ]
  },
  {
   "cell_type": "markdown",
   "id": "84ffe1f0",
   "metadata": {},
   "source": [
    "### 7. Find Out Number of Courses Per Subjects"
   ]
  },
  {
   "cell_type": "code",
   "execution_count": null,
   "id": "938913b0",
   "metadata": {},
   "outputs": [],
   "source": [
    "data.head()"
   ]
  },
  {
   "cell_type": "code",
   "execution_count": null,
   "id": "1b397ed2",
   "metadata": {},
   "outputs": [],
   "source": [
    "data['subject'].value_counts()"
   ]
  },
  {
   "cell_type": "code",
   "execution_count": null,
   "id": "2d9b0ba6",
   "metadata": {},
   "outputs": [],
   "source": [
    "sns.countplot(x=data['subject'])\n",
    "plt.xlabel(\"Subjects\")\n",
    "plt.ylabel(\"Number of Courses Per Subject\")\n",
    "plt.xticks(rotation = 60)\n",
    "plt.show()"
   ]
  },
  {
   "cell_type": "markdown",
   "id": "c12011ac",
   "metadata": {},
   "source": [
    "### 8. For Which Levels, Udemy Courses Providing The Courses"
   ]
  },
  {
   "cell_type": "code",
   "execution_count": null,
   "id": "9ff85277",
   "metadata": {},
   "outputs": [],
   "source": [
    "data.columns"
   ]
  },
  {
   "cell_type": "code",
   "execution_count": null,
   "id": "a93fa12f",
   "metadata": {},
   "outputs": [],
   "source": [
    "data['level'].value_counts()"
   ]
  },
  {
   "cell_type": "code",
   "execution_count": null,
   "id": "e913c85e",
   "metadata": {},
   "outputs": [],
   "source": [
    "sns.countplot(x=data['level'])\n",
    "plt.xlabel(\"Level\", fontsize = 13)\n",
    "plt.ylabel(\"Number of Courses Per Level\",fontsize = 13)\n",
    "plt.xticks(rotation=60)\n",
    "plt.show()"
   ]
  },
  {
   "cell_type": "markdown",
   "id": "131134e4",
   "metadata": {},
   "source": [
    "### 9. Display The Count of Paid and Free Courses "
   ]
  },
  {
   "cell_type": "code",
   "execution_count": null,
   "id": "9042adc9",
   "metadata": {},
   "outputs": [],
   "source": [
    "data.columns"
   ]
  },
  {
   "cell_type": "code",
   "execution_count": null,
   "id": "70e036f3",
   "metadata": {},
   "outputs": [],
   "source": [
    "data['is_paid'].value_counts()"
   ]
  },
  {
   "cell_type": "code",
   "execution_count": null,
   "id": "f1fef06e",
   "metadata": {},
   "outputs": [],
   "source": [
    "sns.countplot(x=data['is_paid'])\n",
    "plt.xlabel(\"Level\", fontsize = 13)\n",
    "plt.ylabel(\"Number of Free And Paid Courses\",fontsize = 13)\n",
    "plt.xticks(rotation=60)\n",
    "plt.show()"
   ]
  },
  {
   "cell_type": "markdown",
   "id": "b2591467",
   "metadata": {},
   "source": [
    "### 10. Which Course Has More Lectures (Free or Paid)?"
   ]
  },
  {
   "cell_type": "code",
   "execution_count": null,
   "id": "39417e8b",
   "metadata": {},
   "outputs": [],
   "source": [
    "data.groupby(['is_paid']).mean(numeric_only=True)"
   ]
  },
  {
   "cell_type": "markdown",
   "id": "148e335f",
   "metadata": {},
   "source": [
    "### 11. Which Courses Have A Higher Number of Subscribers Free or Paid?"
   ]
  },
  {
   "cell_type": "code",
   "execution_count": null,
   "id": "fa44c5df",
   "metadata": {},
   "outputs": [],
   "source": [
    "data.columns"
   ]
  },
  {
   "cell_type": "code",
   "execution_count": null,
   "id": "ab3971e4",
   "metadata": {},
   "outputs": [],
   "source": [
    "sns.barplot(x=\"is_paid\",y=\"num_subscribers\",data=data)"
   ]
  },
  {
   "cell_type": "markdown",
   "id": "9a397d6e",
   "metadata": {},
   "source": [
    "### 12. Which Level Has The Highest Number of Subscribers?\n"
   ]
  },
  {
   "cell_type": "code",
   "execution_count": null,
   "id": "384d2737",
   "metadata": {},
   "outputs": [],
   "source": [
    "data.columns"
   ]
  },
  {
   "cell_type": "code",
   "execution_count": null,
   "id": "9b88a8da",
   "metadata": {},
   "outputs": [],
   "source": [
    "sns.barplot(x=\"level\",y=\"num_subscribers\",data=data)\n",
    "plt.xticks(rotation=60)\n",
    "plt.show()"
   ]
  },
  {
   "cell_type": "markdown",
   "id": "7b994eef",
   "metadata": {},
   "source": [
    "### 13. Find Most Popular Course Title"
   ]
  },
  {
   "cell_type": "code",
   "execution_count": null,
   "id": "1931b2c6",
   "metadata": {},
   "outputs": [],
   "source": [
    "data.columns"
   ]
  },
  {
   "cell_type": "code",
   "execution_count": null,
   "id": "73ad4003",
   "metadata": {},
   "outputs": [],
   "source": [
    "data[data['num_subscribers'].max() == data['num_subscribers']]['course_title']"
   ]
  },
  {
   "cell_type": "markdown",
   "id": "4a155433",
   "metadata": {},
   "source": [
    "### 14. Display 10 Most Popular Courses As Per Number of Subscribers"
   ]
  },
  {
   "cell_type": "code",
   "execution_count": null,
   "id": "e785d951",
   "metadata": {},
   "outputs": [],
   "source": [
    "data.columns"
   ]
  },
  {
   "cell_type": "code",
   "execution_count": null,
   "id": "296acd70",
   "metadata": {},
   "outputs": [],
   "source": [
    "top_10 = data.sort_values(by=\"num_subscribers\",ascending=False).head(10)\n",
    "top_10"
   ]
  },
  {
   "cell_type": "code",
   "execution_count": null,
   "id": "1b802175",
   "metadata": {},
   "outputs": [],
   "source": [
    "sns.barplot(x=\"num_subscribers\",y=\"course_title\",data=top_10)"
   ]
  },
  {
   "cell_type": "markdown",
   "id": "e4f9c70d",
   "metadata": {},
   "source": [
    "### 15. Find The Course Which Is Having The Highest Number of Reviews."
   ]
  },
  {
   "cell_type": "code",
   "execution_count": null,
   "id": "e6c30d6a",
   "metadata": {},
   "outputs": [],
   "source": [
    "data.columns"
   ]
  },
  {
   "cell_type": "code",
   "execution_count": null,
   "id": "de614336",
   "metadata": {},
   "outputs": [],
   "source": [
    "plt.figure(figsize=(10,4))\n",
    "sns.barplot(x=\"subject\", y=\"num_reviews\", data=data)\n",
    "plt.show()"
   ]
  },
  {
   "cell_type": "markdown",
   "id": "f77a46b9",
   "metadata": {},
   "source": [
    "### 16. Does Price Affect the Number of Reviews?"
   ]
  },
  {
   "cell_type": "code",
   "execution_count": null,
   "id": "d56c1de5",
   "metadata": {},
   "outputs": [],
   "source": [
    "data.columns"
   ]
  },
  {
   "cell_type": "code",
   "execution_count": null,
   "id": "60c1d17f",
   "metadata": {},
   "outputs": [],
   "source": [
    "plt.figure(figsize=(15,6))\n",
    "sns.scatterplot(x=\"price\",y=\"num_reviews\",data=data)"
   ]
  },
  {
   "cell_type": "markdown",
   "id": "83ae08ea",
   "metadata": {},
   "source": [
    "### 17. Find Total Number of Courses Related To Python"
   ]
  },
  {
   "cell_type": "code",
   "execution_count": null,
   "id": "e1e8181a",
   "metadata": {},
   "outputs": [],
   "source": [
    "len(data[data['course_title'].str.contains('python',case=False)])"
   ]
  },
  {
   "cell_type": "markdown",
   "id": "cf85cce2",
   "metadata": {},
   "source": [
    "### 18. Display 10 Most Popular Python Courses As Per Number of Subscribers"
   ]
  },
  {
   "cell_type": "code",
   "execution_count": null,
   "id": "5f2a8a33",
   "metadata": {},
   "outputs": [],
   "source": [
    "py = data[data['course_title'].str.contains('python',case=False)].\\\n",
    "sort_values(by=\"num_subscribers\",ascending=False).head(10)\n",
    "py"
   ]
  },
  {
   "cell_type": "code",
   "execution_count": null,
   "id": "eba2da85",
   "metadata": {},
   "outputs": [],
   "source": [
    "sns.barplot(x=\"num_subscribers\",y=\"course_title\",data=py)"
   ]
  },
  {
   "cell_type": "markdown",
   "id": "ee192f3c",
   "metadata": {},
   "source": [
    "### 19. In Which Year The Highest Number of Courses Were Posted?"
   ]
  },
  {
   "cell_type": "code",
   "execution_count": null,
   "id": "7a103e26",
   "metadata": {},
   "outputs": [],
   "source": [
    "data.columns"
   ]
  },
  {
   "cell_type": "code",
   "execution_count": null,
   "id": "a099249e",
   "metadata": {},
   "outputs": [],
   "source": [
    "data['Year'] = data['published_timestamp'].dt.year"
   ]
  },
  {
   "cell_type": "code",
   "execution_count": null,
   "id": "b421a4ab",
   "metadata": {},
   "outputs": [],
   "source": [
    "data.head(1)"
   ]
  },
  {
   "cell_type": "code",
   "execution_count": null,
   "id": "014ce303",
   "metadata": {},
   "outputs": [],
   "source": [
    "sns.countplot(x=data['Year'],data=data)"
   ]
  },
  {
   "cell_type": "markdown",
   "id": "df31a92c",
   "metadata": {},
   "source": [
    "### 20. Display Category-Wise Count of Posted Subjects [Year Wise] "
   ]
  },
  {
   "cell_type": "code",
   "execution_count": null,
   "id": "5fbaf4d2",
   "metadata": {},
   "outputs": [],
   "source": [
    "data.groupby(data['Year'])['subject'].value_counts()"
   ]
  },
  {
   "cell_type": "code",
   "execution_count": null,
   "id": "3afcb849",
   "metadata": {},
   "outputs": [],
   "source": []
  }
 ],
 "metadata": {
  "kernelspec": {
   "display_name": "Python 3 (ipykernel)",
   "language": "python",
   "name": "python3"
  },
  "language_info": {
   "codemirror_mode": {
    "name": "ipython",
    "version": 3
   },
   "file_extension": ".py",
   "mimetype": "text/x-python",
   "name": "python",
   "nbconvert_exporter": "python",
   "pygments_lexer": "ipython3",
   "version": "3.11.4"
  }
 },
 "nbformat": 4,
 "nbformat_minor": 5
}
