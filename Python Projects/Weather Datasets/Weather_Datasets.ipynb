{
 "cells": [
  {
   "cell_type": "code",
   "execution_count": null,
   "id": "d33a5244",
   "metadata": {},
   "outputs": [],
   "source": [
    "import pandas as pd"
   ]
  },
  {
   "cell_type": "code",
   "execution_count": null,
   "id": "afc0b021",
   "metadata": {},
   "outputs": [],
   "source": [
    "data = pd.read_csv('1. Weather Data.csv')"
   ]
  },
  {
   "cell_type": "code",
   "execution_count": null,
   "id": "c51e71bd",
   "metadata": {},
   "outputs": [],
   "source": [
    "data.head()"
   ]
  },
  {
   "cell_type": "code",
   "execution_count": null,
   "id": "dd7b942a",
   "metadata": {},
   "outputs": [],
   "source": [
    "data.shape"
   ]
  },
  {
   "cell_type": "markdown",
   "id": "b99e0d3b",
   "metadata": {},
   "source": [
    "1. Find all the unique 'Wind Speed' value in the data."
   ]
  },
  {
   "cell_type": "code",
   "execution_count": null,
   "id": "65fb50fa",
   "metadata": {},
   "outputs": [],
   "source": [
    "data.nunique()"
   ]
  },
  {
   "cell_type": "code",
   "execution_count": null,
   "id": "698b93f8",
   "metadata": {},
   "outputs": [],
   "source": [
    "data['Wind Speed_km/h'].nunique()"
   ]
  },
  {
   "cell_type": "code",
   "execution_count": null,
   "id": "59e59b7f",
   "metadata": {},
   "outputs": [],
   "source": [
    "data['Wind Speed_km/h'].unique()"
   ]
  },
  {
   "cell_type": "markdown",
   "id": "74dabb98",
   "metadata": {},
   "source": [
    "2. Find the number of times when the 'Wheather is exactly Clear'"
   ]
  },
  {
   "cell_type": "code",
   "execution_count": null,
   "id": "3fe50116",
   "metadata": {},
   "outputs": [],
   "source": [
    "data.head()"
   ]
  },
  {
   "cell_type": "code",
   "execution_count": null,
   "id": "46098559",
   "metadata": {},
   "outputs": [],
   "source": [
    "data['Weather'].value_counts()"
   ]
  },
  {
   "cell_type": "code",
   "execution_count": null,
   "id": "43e9db15",
   "metadata": {},
   "outputs": [],
   "source": [
    "data[data.Weather == 'Clear']"
   ]
  },
  {
   "cell_type": "code",
   "execution_count": null,
   "id": "62b0626b",
   "metadata": {},
   "outputs": [],
   "source": [
    "data.groupby('Weather').get_group('Clear')"
   ]
  },
  {
   "cell_type": "markdown",
   "id": "f6712683",
   "metadata": {},
   "source": [
    "3. Find the number of times when the 'Wind Speed was exactly 4 km/h'."
   ]
  },
  {
   "cell_type": "code",
   "execution_count": null,
   "id": "52dea69e",
   "metadata": {},
   "outputs": [],
   "source": [
    "data.head(2)"
   ]
  },
  {
   "cell_type": "code",
   "execution_count": null,
   "id": "04977733",
   "metadata": {},
   "outputs": [],
   "source": [
    "data[data['Wind Speed_km/h'] == 4]"
   ]
  },
  {
   "cell_type": "markdown",
   "id": "c938fc98",
   "metadata": {},
   "source": [
    "4. Find out all the Null Values in the data."
   ]
  },
  {
   "cell_type": "code",
   "execution_count": null,
   "id": "5735370c",
   "metadata": {},
   "outputs": [],
   "source": [
    "data.isnull().sum()"
   ]
  },
  {
   "cell_type": "markdown",
   "id": "538d12b6",
   "metadata": {},
   "source": [
    "5. Rename the column name 'Weather' of the dataframe to 'Weather Condition'"
   ]
  },
  {
   "cell_type": "code",
   "execution_count": null,
   "id": "f75da0ac",
   "metadata": {},
   "outputs": [],
   "source": [
    "data.rename(columns= {'Weather' : 'Weather Condition'}, inplace= True)"
   ]
  },
  {
   "cell_type": "markdown",
   "id": "cf6e74e0",
   "metadata": {},
   "source": [
    "6. What is the mean 'Visibility'?"
   ]
  },
  {
   "cell_type": "code",
   "execution_count": null,
   "id": "d4711e5d",
   "metadata": {},
   "outputs": [],
   "source": [
    "data.Visibility_km.mean()"
   ]
  },
  {
   "cell_type": "markdown",
   "id": "fee22037",
   "metadata": {},
   "source": [
    "7. What is the Standard Deviation of 'Pressure' in this data?"
   ]
  },
  {
   "cell_type": "code",
   "execution_count": null,
   "id": "49781df6",
   "metadata": {},
   "outputs": [],
   "source": [
    "data.Press_kPa.std()"
   ]
  },
  {
   "cell_type": "markdown",
   "id": "3f4a8bed",
   "metadata": {},
   "source": [
    "8. What is the Variance of 'Relative Humidity' in this data?"
   ]
  },
  {
   "cell_type": "code",
   "execution_count": null,
   "id": "467c90b2",
   "metadata": {},
   "outputs": [],
   "source": [
    "data['Rel Hum_%'].var()"
   ]
  },
  {
   "cell_type": "markdown",
   "id": "667990c7",
   "metadata": {},
   "source": [
    "9. Find all instances When 'Snow' was recorded"
   ]
  },
  {
   "cell_type": "code",
   "execution_count": null,
   "id": "c2723f83",
   "metadata": {},
   "outputs": [],
   "source": [
    "data['Weather Condition'].value_counts()"
   ]
  },
  {
   "cell_type": "code",
   "execution_count": null,
   "id": "9353bd89",
   "metadata": {},
   "outputs": [],
   "source": [
    "data[data['Weather Condition'] == 'Snow']"
   ]
  },
  {
   "cell_type": "code",
   "execution_count": null,
   "id": "fd4c7f02",
   "metadata": {},
   "outputs": [],
   "source": [
    "data[data['Weather Condition'].str.contains('Snow')].tail(50)"
   ]
  },
  {
   "cell_type": "markdown",
   "id": "64118d72",
   "metadata": {},
   "source": [
    "10. Find all instances When 'Wind Speed is above 24' and 'Visibility is 25'"
   ]
  },
  {
   "cell_type": "code",
   "execution_count": null,
   "id": "bc4f2f64",
   "metadata": {},
   "outputs": [],
   "source": [
    "data[(data['Wind Speed_km/h'] > 24) & (data['Visibility_km'] == 25)]"
   ]
  },
  {
   "cell_type": "markdown",
   "id": "88efde8c",
   "metadata": {},
   "source": [
    "11. What is the Mean value of each column against each 'Weather Condition'"
   ]
  },
  {
   "cell_type": "code",
   "execution_count": null,
   "id": "33e696f7",
   "metadata": {},
   "outputs": [],
   "source": [
    "data.head(2)"
   ]
  },
  {
   "cell_type": "code",
   "execution_count": null,
   "id": "bcfec435",
   "metadata": {},
   "outputs": [],
   "source": [
    "data.groupby('Weather Condition').mean()"
   ]
  },
  {
   "cell_type": "markdown",
   "id": "697e78fc",
   "metadata": {},
   "source": [
    "12. What is the Minimum and Maximum value of each column against each \"Weather Condition\"?"
   ]
  },
  {
   "cell_type": "code",
   "execution_count": null,
   "id": "49c80106",
   "metadata": {},
   "outputs": [],
   "source": [
    "data.head(2)"
   ]
  },
  {
   "cell_type": "code",
   "execution_count": null,
   "id": "b3ba0742",
   "metadata": {},
   "outputs": [],
   "source": [
    "data.groupby('Weather Condition').min()"
   ]
  },
  {
   "cell_type": "code",
   "execution_count": null,
   "id": "16d4a3e6",
   "metadata": {},
   "outputs": [],
   "source": [
    "data.groupby('Weather Condition').max()"
   ]
  },
  {
   "cell_type": "markdown",
   "id": "c9b72210",
   "metadata": {},
   "source": [
    "13. Show all the Records Where Weather Condition is Fog."
   ]
  },
  {
   "cell_type": "code",
   "execution_count": null,
   "id": "801b0ee4",
   "metadata": {},
   "outputs": [],
   "source": [
    "data[data['Weather Condition'] == 'Fog']"
   ]
  },
  {
   "cell_type": "markdown",
   "id": "eb77161b",
   "metadata": {},
   "source": [
    "14. Finf all instances When 'Wheather us Clear' or 'Visibility is above 40'."
   ]
  },
  {
   "cell_type": "code",
   "execution_count": null,
   "id": "16f67e2d",
   "metadata": {},
   "outputs": [],
   "source": [
    "data[(data['Weather Condition'] == 'Clear') | (data['Visibility_km'] > 40)]"
   ]
  },
  {
   "cell_type": "markdown",
   "id": "e96d5e26",
   "metadata": {},
   "source": [
    "15. Find all instances when :\n",
    "A. 'Weather is Clear' and \"Relative Humidiy is greater than 50\"\n",
    "or\n",
    "B. 'Visibility is above 40'"
   ]
  },
  {
   "cell_type": "code",
   "execution_count": null,
   "id": "4454e130",
   "metadata": {},
   "outputs": [],
   "source": [
    "data[(data['Weather Condition'] == 'Clear') & (data['Rel Hum_%'] > 50) | (data['Visibility_km'] >40)]"
   ]
  },
  {
   "cell_type": "code",
   "execution_count": null,
   "id": "7ffe91c3",
   "metadata": {},
   "outputs": [],
   "source": []
  }
 ],
 "metadata": {
  "kernelspec": {
   "display_name": "Python 3 (ipykernel)",
   "language": "python",
   "name": "python3"
  },
  "language_info": {
   "codemirror_mode": {
    "name": "ipython",
    "version": 3
   },
   "file_extension": ".py",
   "mimetype": "text/x-python",
   "name": "python",
   "nbconvert_exporter": "python",
   "pygments_lexer": "ipython3",
   "version": "3.11.4"
  }
 },
 "nbformat": 4,
 "nbformat_minor": 5
}
