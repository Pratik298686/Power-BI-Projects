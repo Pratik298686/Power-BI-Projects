{
 "cells": [
  {
   "cell_type": "markdown",
   "id": "271ba534",
   "metadata": {},
   "source": [
    "### Import Libraries"
   ]
  },
  {
   "cell_type": "code",
   "execution_count": 80,
   "id": "222af126",
   "metadata": {},
   "outputs": [],
   "source": [
    "import pandas as pd\n",
    "import matplotlib.pyplot as plt\n",
    "import numpy as np\n",
    "import seaborn as sns"
   ]
  },
  {
   "cell_type": "markdown",
   "id": "991a6469",
   "metadata": {},
   "source": [
    "### Import Dataset"
   ]
  },
  {
   "cell_type": "code",
   "execution_count": 3,
   "id": "6f63213b",
   "metadata": {},
   "outputs": [],
   "source": [
    "df = pd.read_csv('Summer-Olympic-medals-1976-to-2008.csv',encoding='latin1')"
   ]
  },
  {
   "cell_type": "code",
   "execution_count": 4,
   "id": "1ea0635f",
   "metadata": {},
   "outputs": [
    {
     "data": {
      "text/html": [
       "<div>\n",
       "<style scoped>\n",
       "    .dataframe tbody tr th:only-of-type {\n",
       "        vertical-align: middle;\n",
       "    }\n",
       "\n",
       "    .dataframe tbody tr th {\n",
       "        vertical-align: top;\n",
       "    }\n",
       "\n",
       "    .dataframe thead th {\n",
       "        text-align: right;\n",
       "    }\n",
       "</style>\n",
       "<table border=\"1\" class=\"dataframe\">\n",
       "  <thead>\n",
       "    <tr style=\"text-align: right;\">\n",
       "      <th></th>\n",
       "      <th>City</th>\n",
       "      <th>Year</th>\n",
       "      <th>Sport</th>\n",
       "      <th>Discipline</th>\n",
       "      <th>Event</th>\n",
       "      <th>Athlete</th>\n",
       "      <th>Gender</th>\n",
       "      <th>Country_Code</th>\n",
       "      <th>Country</th>\n",
       "      <th>Event_gender</th>\n",
       "      <th>Medal</th>\n",
       "    </tr>\n",
       "  </thead>\n",
       "  <tbody>\n",
       "    <tr>\n",
       "      <th>0</th>\n",
       "      <td>Montreal</td>\n",
       "      <td>1976.0</td>\n",
       "      <td>Aquatics</td>\n",
       "      <td>Diving</td>\n",
       "      <td>3m springboard</td>\n",
       "      <td>KÖHLER, Christa</td>\n",
       "      <td>Women</td>\n",
       "      <td>GDR</td>\n",
       "      <td>East Germany</td>\n",
       "      <td>W</td>\n",
       "      <td>Silver</td>\n",
       "    </tr>\n",
       "    <tr>\n",
       "      <th>1</th>\n",
       "      <td>Montreal</td>\n",
       "      <td>1976.0</td>\n",
       "      <td>Aquatics</td>\n",
       "      <td>Diving</td>\n",
       "      <td>3m springboard</td>\n",
       "      <td>KOSENKOV, Aleksandr</td>\n",
       "      <td>Men</td>\n",
       "      <td>URS</td>\n",
       "      <td>Soviet Union</td>\n",
       "      <td>M</td>\n",
       "      <td>Bronze</td>\n",
       "    </tr>\n",
       "    <tr>\n",
       "      <th>2</th>\n",
       "      <td>Montreal</td>\n",
       "      <td>1976.0</td>\n",
       "      <td>Aquatics</td>\n",
       "      <td>Diving</td>\n",
       "      <td>3m springboard</td>\n",
       "      <td>BOGGS, Philip George</td>\n",
       "      <td>Men</td>\n",
       "      <td>USA</td>\n",
       "      <td>United States</td>\n",
       "      <td>M</td>\n",
       "      <td>Gold</td>\n",
       "    </tr>\n",
       "    <tr>\n",
       "      <th>3</th>\n",
       "      <td>Montreal</td>\n",
       "      <td>1976.0</td>\n",
       "      <td>Aquatics</td>\n",
       "      <td>Diving</td>\n",
       "      <td>3m springboard</td>\n",
       "      <td>CAGNOTTO, Giorgio Franco</td>\n",
       "      <td>Men</td>\n",
       "      <td>ITA</td>\n",
       "      <td>Italy</td>\n",
       "      <td>M</td>\n",
       "      <td>Silver</td>\n",
       "    </tr>\n",
       "    <tr>\n",
       "      <th>4</th>\n",
       "      <td>Montreal</td>\n",
       "      <td>1976.0</td>\n",
       "      <td>Aquatics</td>\n",
       "      <td>Diving</td>\n",
       "      <td>10m platform</td>\n",
       "      <td>WILSON, Deborah Keplar</td>\n",
       "      <td>Women</td>\n",
       "      <td>USA</td>\n",
       "      <td>United States</td>\n",
       "      <td>W</td>\n",
       "      <td>Bronze</td>\n",
       "    </tr>\n",
       "  </tbody>\n",
       "</table>\n",
       "</div>"
      ],
      "text/plain": [
       "       City    Year     Sport Discipline           Event  \\\n",
       "0  Montreal  1976.0  Aquatics     Diving  3m springboard   \n",
       "1  Montreal  1976.0  Aquatics     Diving  3m springboard   \n",
       "2  Montreal  1976.0  Aquatics     Diving  3m springboard   \n",
       "3  Montreal  1976.0  Aquatics     Diving  3m springboard   \n",
       "4  Montreal  1976.0  Aquatics     Diving    10m platform   \n",
       "\n",
       "                    Athlete Gender Country_Code        Country Event_gender  \\\n",
       "0           KÖHLER, Christa  Women          GDR   East Germany            W   \n",
       "1       KOSENKOV, Aleksandr    Men          URS   Soviet Union            M   \n",
       "2      BOGGS, Philip George    Men          USA  United States            M   \n",
       "3  CAGNOTTO, Giorgio Franco    Men          ITA          Italy            M   \n",
       "4    WILSON, Deborah Keplar  Women          USA  United States            W   \n",
       "\n",
       "    Medal  \n",
       "0  Silver  \n",
       "1  Bronze  \n",
       "2    Gold  \n",
       "3  Silver  \n",
       "4  Bronze  "
      ]
     },
     "execution_count": 4,
     "metadata": {},
     "output_type": "execute_result"
    }
   ],
   "source": [
    "df.head()"
   ]
  },
  {
   "cell_type": "code",
   "execution_count": 5,
   "id": "38eaf44f",
   "metadata": {},
   "outputs": [
    {
     "data": {
      "text/html": [
       "<div>\n",
       "<style scoped>\n",
       "    .dataframe tbody tr th:only-of-type {\n",
       "        vertical-align: middle;\n",
       "    }\n",
       "\n",
       "    .dataframe tbody tr th {\n",
       "        vertical-align: top;\n",
       "    }\n",
       "\n",
       "    .dataframe thead th {\n",
       "        text-align: right;\n",
       "    }\n",
       "</style>\n",
       "<table border=\"1\" class=\"dataframe\">\n",
       "  <thead>\n",
       "    <tr style=\"text-align: right;\">\n",
       "      <th></th>\n",
       "      <th>City</th>\n",
       "      <th>Year</th>\n",
       "      <th>Sport</th>\n",
       "      <th>Discipline</th>\n",
       "      <th>Event</th>\n",
       "      <th>Athlete</th>\n",
       "      <th>Gender</th>\n",
       "      <th>Country_Code</th>\n",
       "      <th>Country</th>\n",
       "      <th>Event_gender</th>\n",
       "      <th>Medal</th>\n",
       "    </tr>\n",
       "  </thead>\n",
       "  <tbody>\n",
       "    <tr>\n",
       "      <th>15428</th>\n",
       "      <td>Beijing</td>\n",
       "      <td>2008.0</td>\n",
       "      <td>Wrestling</td>\n",
       "      <td>Wrestling Gre-R</td>\n",
       "      <td>66 - 74kg</td>\n",
       "      <td>GUENOT, Christophe</td>\n",
       "      <td>Men</td>\n",
       "      <td>FRA</td>\n",
       "      <td>France</td>\n",
       "      <td>M</td>\n",
       "      <td>Bronze</td>\n",
       "    </tr>\n",
       "    <tr>\n",
       "      <th>15429</th>\n",
       "      <td>Beijing</td>\n",
       "      <td>2008.0</td>\n",
       "      <td>Wrestling</td>\n",
       "      <td>Wrestling Gre-R</td>\n",
       "      <td>66 - 74kg</td>\n",
       "      <td>KVIRKELIA, Manuchar</td>\n",
       "      <td>Men</td>\n",
       "      <td>GEO</td>\n",
       "      <td>Georgia</td>\n",
       "      <td>M</td>\n",
       "      <td>Gold</td>\n",
       "    </tr>\n",
       "    <tr>\n",
       "      <th>15430</th>\n",
       "      <td>Beijing</td>\n",
       "      <td>2008.0</td>\n",
       "      <td>Wrestling</td>\n",
       "      <td>Wrestling Gre-R</td>\n",
       "      <td>55 - 60kg</td>\n",
       "      <td>RAHIMOV, Vitaliy</td>\n",
       "      <td>Men</td>\n",
       "      <td>AZE</td>\n",
       "      <td>Azerbaijan</td>\n",
       "      <td>M</td>\n",
       "      <td>Silver</td>\n",
       "    </tr>\n",
       "    <tr>\n",
       "      <th>15431</th>\n",
       "      <td>Beijing</td>\n",
       "      <td>2008.0</td>\n",
       "      <td>Wrestling</td>\n",
       "      <td>Wrestling Gre-R</td>\n",
       "      <td>60 - 66kg</td>\n",
       "      <td>GUENOT, Steeve</td>\n",
       "      <td>Men</td>\n",
       "      <td>FRA</td>\n",
       "      <td>France</td>\n",
       "      <td>M</td>\n",
       "      <td>Gold</td>\n",
       "    </tr>\n",
       "    <tr>\n",
       "      <th>15432</th>\n",
       "      <td>Beijing</td>\n",
       "      <td>2008.0</td>\n",
       "      <td>Wrestling</td>\n",
       "      <td>Wrestling Gre-R</td>\n",
       "      <td>96 - 120kg</td>\n",
       "      <td>LOPEZ, Mijain</td>\n",
       "      <td>Men</td>\n",
       "      <td>CUB</td>\n",
       "      <td>Cuba</td>\n",
       "      <td>M</td>\n",
       "      <td>Gold</td>\n",
       "    </tr>\n",
       "  </tbody>\n",
       "</table>\n",
       "</div>"
      ],
      "text/plain": [
       "          City    Year      Sport       Discipline       Event  \\\n",
       "15428  Beijing  2008.0  Wrestling  Wrestling Gre-R   66 - 74kg   \n",
       "15429  Beijing  2008.0  Wrestling  Wrestling Gre-R   66 - 74kg   \n",
       "15430  Beijing  2008.0  Wrestling  Wrestling Gre-R   55 - 60kg   \n",
       "15431  Beijing  2008.0  Wrestling  Wrestling Gre-R   60 - 66kg   \n",
       "15432  Beijing  2008.0  Wrestling  Wrestling Gre-R  96 - 120kg   \n",
       "\n",
       "                   Athlete Gender Country_Code     Country Event_gender  \\\n",
       "15428   GUENOT, Christophe    Men          FRA      France            M   \n",
       "15429  KVIRKELIA, Manuchar    Men          GEO     Georgia            M   \n",
       "15430     RAHIMOV, Vitaliy    Men          AZE  Azerbaijan            M   \n",
       "15431       GUENOT, Steeve    Men          FRA      France            M   \n",
       "15432        LOPEZ, Mijain    Men          CUB        Cuba            M   \n",
       "\n",
       "        Medal  \n",
       "15428  Bronze  \n",
       "15429    Gold  \n",
       "15430  Silver  \n",
       "15431    Gold  \n",
       "15432    Gold  "
      ]
     },
     "execution_count": 5,
     "metadata": {},
     "output_type": "execute_result"
    }
   ],
   "source": [
    "df.tail()"
   ]
  },
  {
   "cell_type": "code",
   "execution_count": 7,
   "id": "5d9ee28c",
   "metadata": {},
   "outputs": [
    {
     "data": {
      "text/plain": [
       "(15433, 11)"
      ]
     },
     "execution_count": 7,
     "metadata": {},
     "output_type": "execute_result"
    }
   ],
   "source": [
    "df.shape"
   ]
  },
  {
   "cell_type": "code",
   "execution_count": 8,
   "id": "2a1e9d0a",
   "metadata": {},
   "outputs": [
    {
     "data": {
      "text/plain": [
       "City             object\n",
       "Year            float64\n",
       "Sport            object\n",
       "Discipline       object\n",
       "Event            object\n",
       "Athlete          object\n",
       "Gender           object\n",
       "Country_Code     object\n",
       "Country          object\n",
       "Event_gender     object\n",
       "Medal            object\n",
       "dtype: object"
      ]
     },
     "execution_count": 8,
     "metadata": {},
     "output_type": "execute_result"
    }
   ],
   "source": [
    "df.dtypes"
   ]
  },
  {
   "cell_type": "code",
   "execution_count": 9,
   "id": "cdd17455",
   "metadata": {},
   "outputs": [
    {
     "data": {
      "text/plain": [
       "Index(['City', 'Year', 'Sport', 'Discipline', 'Event', 'Athlete', 'Gender',\n",
       "       'Country_Code', 'Country', 'Event_gender', 'Medal'],\n",
       "      dtype='object')"
      ]
     },
     "execution_count": 9,
     "metadata": {},
     "output_type": "execute_result"
    }
   ],
   "source": [
    "df.columns"
   ]
  },
  {
   "cell_type": "code",
   "execution_count": 10,
   "id": "44b27d98",
   "metadata": {},
   "outputs": [
    {
     "data": {
      "text/plain": [
       "array([1976.,   nan, 1980., 1984., 1988., 1992., 1996., 2000., 2004.,\n",
       "       2008.])"
      ]
     },
     "execution_count": 10,
     "metadata": {},
     "output_type": "execute_result"
    }
   ],
   "source": [
    "df['Year'].unique()"
   ]
  },
  {
   "cell_type": "code",
   "execution_count": 11,
   "id": "60d32156",
   "metadata": {},
   "outputs": [
    {
     "data": {
      "text/plain": [
       "array(['Montreal', nan, 'Moscow', 'Los Angeles', 'Seoul', 'Barcelona',\n",
       "       'Atlanta', 'Sydney', 'Athens', 'Beijing'], dtype=object)"
      ]
     },
     "execution_count": 11,
     "metadata": {},
     "output_type": "execute_result"
    }
   ],
   "source": [
    "df['City'].unique()"
   ]
  },
  {
   "cell_type": "code",
   "execution_count": 12,
   "id": "d9f39dba",
   "metadata": {},
   "outputs": [
    {
     "name": "stdout",
     "output_type": "stream",
     "text": [
      "<class 'pandas.core.frame.DataFrame'>\n",
      "RangeIndex: 15433 entries, 0 to 15432\n",
      "Data columns (total 11 columns):\n",
      " #   Column        Non-Null Count  Dtype  \n",
      "---  ------        --------------  -----  \n",
      " 0   City          15316 non-null  object \n",
      " 1   Year          15316 non-null  float64\n",
      " 2   Sport         15316 non-null  object \n",
      " 3   Discipline    15316 non-null  object \n",
      " 4   Event         15316 non-null  object \n",
      " 5   Athlete       15316 non-null  object \n",
      " 6   Gender        15316 non-null  object \n",
      " 7   Country_Code  15316 non-null  object \n",
      " 8   Country       15316 non-null  object \n",
      " 9   Event_gender  15316 non-null  object \n",
      " 10  Medal         15316 non-null  object \n",
      "dtypes: float64(1), object(10)\n",
      "memory usage: 1.3+ MB\n"
     ]
    }
   ],
   "source": [
    "df.info()"
   ]
  },
  {
   "cell_type": "code",
   "execution_count": 14,
   "id": "a96b98d2",
   "metadata": {},
   "outputs": [
    {
     "data": {
      "text/html": [
       "<div>\n",
       "<style scoped>\n",
       "    .dataframe tbody tr th:only-of-type {\n",
       "        vertical-align: middle;\n",
       "    }\n",
       "\n",
       "    .dataframe tbody tr th {\n",
       "        vertical-align: top;\n",
       "    }\n",
       "\n",
       "    .dataframe thead th {\n",
       "        text-align: right;\n",
       "    }\n",
       "</style>\n",
       "<table border=\"1\" class=\"dataframe\">\n",
       "  <thead>\n",
       "    <tr style=\"text-align: right;\">\n",
       "      <th></th>\n",
       "      <th>City</th>\n",
       "      <th>Year</th>\n",
       "      <th>Sport</th>\n",
       "      <th>Discipline</th>\n",
       "      <th>Event</th>\n",
       "      <th>Athlete</th>\n",
       "      <th>Gender</th>\n",
       "      <th>Country_Code</th>\n",
       "      <th>Country</th>\n",
       "      <th>Event_gender</th>\n",
       "      <th>Medal</th>\n",
       "    </tr>\n",
       "  </thead>\n",
       "  <tbody>\n",
       "    <tr>\n",
       "      <th>770</th>\n",
       "      <td>NaN</td>\n",
       "      <td>NaN</td>\n",
       "      <td>NaN</td>\n",
       "      <td>NaN</td>\n",
       "      <td>NaN</td>\n",
       "      <td>NaN</td>\n",
       "      <td>NaN</td>\n",
       "      <td>NaN</td>\n",
       "      <td>NaN</td>\n",
       "      <td>NaN</td>\n",
       "      <td>NaN</td>\n",
       "    </tr>\n",
       "    <tr>\n",
       "      <th>771</th>\n",
       "      <td>NaN</td>\n",
       "      <td>NaN</td>\n",
       "      <td>NaN</td>\n",
       "      <td>NaN</td>\n",
       "      <td>NaN</td>\n",
       "      <td>NaN</td>\n",
       "      <td>NaN</td>\n",
       "      <td>NaN</td>\n",
       "      <td>NaN</td>\n",
       "      <td>NaN</td>\n",
       "      <td>NaN</td>\n",
       "    </tr>\n",
       "    <tr>\n",
       "      <th>772</th>\n",
       "      <td>NaN</td>\n",
       "      <td>NaN</td>\n",
       "      <td>NaN</td>\n",
       "      <td>NaN</td>\n",
       "      <td>NaN</td>\n",
       "      <td>NaN</td>\n",
       "      <td>NaN</td>\n",
       "      <td>NaN</td>\n",
       "      <td>NaN</td>\n",
       "      <td>NaN</td>\n",
       "      <td>NaN</td>\n",
       "    </tr>\n",
       "    <tr>\n",
       "      <th>773</th>\n",
       "      <td>NaN</td>\n",
       "      <td>NaN</td>\n",
       "      <td>NaN</td>\n",
       "      <td>NaN</td>\n",
       "      <td>NaN</td>\n",
       "      <td>NaN</td>\n",
       "      <td>NaN</td>\n",
       "      <td>NaN</td>\n",
       "      <td>NaN</td>\n",
       "      <td>NaN</td>\n",
       "      <td>NaN</td>\n",
       "    </tr>\n",
       "    <tr>\n",
       "      <th>774</th>\n",
       "      <td>NaN</td>\n",
       "      <td>NaN</td>\n",
       "      <td>NaN</td>\n",
       "      <td>NaN</td>\n",
       "      <td>NaN</td>\n",
       "      <td>NaN</td>\n",
       "      <td>NaN</td>\n",
       "      <td>NaN</td>\n",
       "      <td>NaN</td>\n",
       "      <td>NaN</td>\n",
       "      <td>NaN</td>\n",
       "    </tr>\n",
       "    <tr>\n",
       "      <th>...</th>\n",
       "      <td>...</td>\n",
       "      <td>...</td>\n",
       "      <td>...</td>\n",
       "      <td>...</td>\n",
       "      <td>...</td>\n",
       "      <td>...</td>\n",
       "      <td>...</td>\n",
       "      <td>...</td>\n",
       "      <td>...</td>\n",
       "      <td>...</td>\n",
       "      <td>...</td>\n",
       "    </tr>\n",
       "    <tr>\n",
       "      <th>882</th>\n",
       "      <td>NaN</td>\n",
       "      <td>NaN</td>\n",
       "      <td>NaN</td>\n",
       "      <td>NaN</td>\n",
       "      <td>NaN</td>\n",
       "      <td>NaN</td>\n",
       "      <td>NaN</td>\n",
       "      <td>NaN</td>\n",
       "      <td>NaN</td>\n",
       "      <td>NaN</td>\n",
       "      <td>NaN</td>\n",
       "    </tr>\n",
       "    <tr>\n",
       "      <th>883</th>\n",
       "      <td>NaN</td>\n",
       "      <td>NaN</td>\n",
       "      <td>NaN</td>\n",
       "      <td>NaN</td>\n",
       "      <td>NaN</td>\n",
       "      <td>NaN</td>\n",
       "      <td>NaN</td>\n",
       "      <td>NaN</td>\n",
       "      <td>NaN</td>\n",
       "      <td>NaN</td>\n",
       "      <td>NaN</td>\n",
       "    </tr>\n",
       "    <tr>\n",
       "      <th>884</th>\n",
       "      <td>NaN</td>\n",
       "      <td>NaN</td>\n",
       "      <td>NaN</td>\n",
       "      <td>NaN</td>\n",
       "      <td>NaN</td>\n",
       "      <td>NaN</td>\n",
       "      <td>NaN</td>\n",
       "      <td>NaN</td>\n",
       "      <td>NaN</td>\n",
       "      <td>NaN</td>\n",
       "      <td>NaN</td>\n",
       "    </tr>\n",
       "    <tr>\n",
       "      <th>885</th>\n",
       "      <td>NaN</td>\n",
       "      <td>NaN</td>\n",
       "      <td>NaN</td>\n",
       "      <td>NaN</td>\n",
       "      <td>NaN</td>\n",
       "      <td>NaN</td>\n",
       "      <td>NaN</td>\n",
       "      <td>NaN</td>\n",
       "      <td>NaN</td>\n",
       "      <td>NaN</td>\n",
       "      <td>NaN</td>\n",
       "    </tr>\n",
       "    <tr>\n",
       "      <th>886</th>\n",
       "      <td>NaN</td>\n",
       "      <td>NaN</td>\n",
       "      <td>NaN</td>\n",
       "      <td>NaN</td>\n",
       "      <td>NaN</td>\n",
       "      <td>NaN</td>\n",
       "      <td>NaN</td>\n",
       "      <td>NaN</td>\n",
       "      <td>NaN</td>\n",
       "      <td>NaN</td>\n",
       "      <td>NaN</td>\n",
       "    </tr>\n",
       "  </tbody>\n",
       "</table>\n",
       "<p>117 rows × 11 columns</p>\n",
       "</div>"
      ],
      "text/plain": [
       "    City  Year Sport Discipline Event Athlete Gender Country_Code Country  \\\n",
       "770  NaN   NaN   NaN        NaN   NaN     NaN    NaN          NaN     NaN   \n",
       "771  NaN   NaN   NaN        NaN   NaN     NaN    NaN          NaN     NaN   \n",
       "772  NaN   NaN   NaN        NaN   NaN     NaN    NaN          NaN     NaN   \n",
       "773  NaN   NaN   NaN        NaN   NaN     NaN    NaN          NaN     NaN   \n",
       "774  NaN   NaN   NaN        NaN   NaN     NaN    NaN          NaN     NaN   \n",
       "..   ...   ...   ...        ...   ...     ...    ...          ...     ...   \n",
       "882  NaN   NaN   NaN        NaN   NaN     NaN    NaN          NaN     NaN   \n",
       "883  NaN   NaN   NaN        NaN   NaN     NaN    NaN          NaN     NaN   \n",
       "884  NaN   NaN   NaN        NaN   NaN     NaN    NaN          NaN     NaN   \n",
       "885  NaN   NaN   NaN        NaN   NaN     NaN    NaN          NaN     NaN   \n",
       "886  NaN   NaN   NaN        NaN   NaN     NaN    NaN          NaN     NaN   \n",
       "\n",
       "    Event_gender Medal  \n",
       "770          NaN   NaN  \n",
       "771          NaN   NaN  \n",
       "772          NaN   NaN  \n",
       "773          NaN   NaN  \n",
       "774          NaN   NaN  \n",
       "..           ...   ...  \n",
       "882          NaN   NaN  \n",
       "883          NaN   NaN  \n",
       "884          NaN   NaN  \n",
       "885          NaN   NaN  \n",
       "886          NaN   NaN  \n",
       "\n",
       "[117 rows x 11 columns]"
      ]
     },
     "execution_count": 14,
     "metadata": {},
     "output_type": "execute_result"
    }
   ],
   "source": [
    "df[df.isnull().any(axis=1)]"
   ]
  },
  {
   "cell_type": "code",
   "execution_count": 16,
   "id": "ac454ba8",
   "metadata": {},
   "outputs": [
    {
     "data": {
      "text/plain": [
       "City            117\n",
       "Year            117\n",
       "Sport           117\n",
       "Discipline      117\n",
       "Event           117\n",
       "Athlete         117\n",
       "Gender          117\n",
       "Country_Code    117\n",
       "Country         117\n",
       "Event_gender    117\n",
       "Medal           117\n",
       "dtype: int64"
      ]
     },
     "execution_count": 16,
     "metadata": {},
     "output_type": "execute_result"
    }
   ],
   "source": [
    "#display the sum of null values for each column\n",
    "df.isnull().sum()"
   ]
  },
  {
   "cell_type": "markdown",
   "id": "ccb648ae",
   "metadata": {},
   "source": [
    "### Cleanup Data and Remove Null Value"
   ]
  },
  {
   "cell_type": "markdown",
   "id": "38865ed7",
   "metadata": {},
   "source": [
    "#### The dataset contains, 15,433 rows and 117 of them are null. I have decided to remove them, because there are only 117 rows that are null values"
   ]
  },
  {
   "cell_type": "code",
   "execution_count": 19,
   "id": "a3fe29dd",
   "metadata": {},
   "outputs": [
    {
     "data": {
      "text/plain": [
       "(15316, 11)"
      ]
     },
     "execution_count": 19,
     "metadata": {},
     "output_type": "execute_result"
    }
   ],
   "source": [
    "#drop null records and check the shape of my dataframe or the number of rows and columns\n",
    "df.dropna(inplace=True)\n",
    "df.shape"
   ]
  },
  {
   "cell_type": "code",
   "execution_count": 21,
   "id": "7f321482",
   "metadata": {},
   "outputs": [
    {
     "data": {
      "text/plain": [
       "Year\n",
       "2008.0    2042\n",
       "2000.0    2015\n",
       "2004.0    1998\n",
       "1996.0    1859\n",
       "1992.0    1705\n",
       "1988.0    1546\n",
       "1984.0    1459\n",
       "1980.0    1387\n",
       "1976.0    1305\n",
       "Name: count, dtype: int64"
      ]
     },
     "execution_count": 21,
     "metadata": {},
     "output_type": "execute_result"
    }
   ],
   "source": [
    "#tells me the number of games played each year.\n",
    "athlete_per_year = df.Year.value_counts()\n",
    "athlete_per_year"
   ]
  },
  {
   "cell_type": "code",
   "execution_count": 104,
   "id": "fdd2e461",
   "metadata": {},
   "outputs": [
    {
     "data": {
      "text/plain": [
       "Year\n",
       "1976.0    1305\n",
       "1980.0    1387\n",
       "1984.0    1459\n",
       "1988.0    1546\n",
       "1992.0    1705\n",
       "1996.0    1859\n",
       "2000.0    2015\n",
       "2004.0    1998\n",
       "2008.0    2042\n",
       "Name: count, dtype: int64"
      ]
     },
     "execution_count": 104,
     "metadata": {},
     "output_type": "execute_result"
    }
   ],
   "source": [
    "#now we have sorted by years, oldest to most recent \n",
    "number_of_athlete_by_year = athlete_per_year.sort_index() \n",
    "number_of_athlete_by_year"
   ]
  },
  {
   "cell_type": "markdown",
   "id": "e6f5876a",
   "metadata": {},
   "source": [
    "### Medal Distribution by Country:"
   ]
  },
  {
   "cell_type": "code",
   "execution_count": 98,
   "id": "7a049e4f",
   "metadata": {},
   "outputs": [
    {
     "data": {
      "text/plain": [
       "Country\n",
       "United States    928\n",
       "Soviet Union     439\n",
       "East Germany     286\n",
       "Germany          237\n",
       "China            234\n",
       "                ... \n",
       "Panama             1\n",
       "Burundi            1\n",
       "Suriname           1\n",
       "Colombia           1\n",
       "Tunisia            1\n",
       "Name: Medal, Length: 87, dtype: int64"
      ]
     },
     "execution_count": 98,
     "metadata": {},
     "output_type": "execute_result"
    }
   ],
   "source": [
    "# Group by Country and count the number of gold medals\n",
    "country_gold_medals = df[df['Medal'] == 'Gold'].groupby('Country')['Medal'].count().sort_values(ascending=False)\n",
    "country_gold_medals"
   ]
  },
  {
   "cell_type": "code",
   "execution_count": 100,
   "id": "80dc1e91",
   "metadata": {},
   "outputs": [
    {
     "data": {
      "text/plain": [
       "Country\n",
       "United States    928\n",
       "Soviet Union     439\n",
       "East Germany     286\n",
       "Germany          237\n",
       "China            234\n",
       "Australia        216\n",
       "Russia           192\n",
       "France           154\n",
       "Cuba             152\n",
       "Italy            145\n",
       "Name: Medal, dtype: int64"
      ]
     },
     "execution_count": 100,
     "metadata": {},
     "output_type": "execute_result"
    }
   ],
   "source": [
    "\n",
    "# Get the top 10 countries with the most gold medals\n",
    "top_countries = country_gold_medals.head(10)\n",
    "top_countries"
   ]
  },
  {
   "cell_type": "code",
   "execution_count": 103,
   "id": "88233b35",
   "metadata": {},
   "outputs": [
    {
     "data": {
      "image/png": "[encoded data removed]",
      "text/plain": [
       "<Figure size 640x480 with 1 Axes>"
      ]
     },
     "metadata": {},
     "output_type": "display_data"
    }
   ],
   "source": [
    "# Create a bar plot\n",
    "plt.bar(top_countries.index, top_countries.values, color='gold')\n",
    "plt.xlabel('Country')\n",
    "plt.ylabel('Number of Gold Medals')\n",
    "plt.title('Top 10 Countries by Gold Medals')\n",
    "plt.xticks(rotation=45)\n",
    "plt.show()"
   ]
  },
  {
   "cell_type": "markdown",
   "id": "6f79742f",
   "metadata": {},
   "source": [
    "This code will generate a bar plot displaying the top 10 countries with the most gold medals."
   ]
  },
  {
   "cell_type": "markdown",
   "id": "1561be94",
   "metadata": {},
   "source": [
    "### Gender Participation and Performance:"
   ]
  },
  {
   "cell_type": "code",
   "execution_count": 95,
   "id": "41408679",
   "metadata": {},
   "outputs": [],
   "source": [
    "# Group by Gender and count the number of gold medals\n",
    "gender_gold_medals = df.groupby('Gender')['Medal'].count()"
   ]
  },
  {
   "cell_type": "code",
   "execution_count": 96,
   "id": "b7bd80a7",
   "metadata": {},
   "outputs": [
    {
     "data": {
      "image/png": "[encoded data removed]",
      "text/plain": [
       "<Figure size 640x480 with 1 Axes>"
      ]
     },
     "metadata": {},
     "output_type": "display_data"
    }
   ],
   "source": [
    "# Create a pie chart\n",
    "plt.pie(gender_gold_medals, labels=gender_gold_medals.index, autopct='%1.1f%%', colors=['skyblue', 'lightcoral'])\n",
    "plt.title('Distribution of Gold Medals by Gender')\n",
    "plt.axis('equal')  # Equal aspect ratio ensures that pie is drawn as a circle.\n",
    "plt.show()"
   ]
  },
  {
   "cell_type": "markdown",
   "id": "d7f8c33f",
   "metadata": {},
   "source": [
    "This code will generate a pie chart showing the distribution of gold medals between male and female athletes. The percentages on the chart represent the proportion of gold medals won by each gender."
   ]
  },
  {
   "cell_type": "markdown",
   "id": "ac197ad9",
   "metadata": {},
   "source": [
    "### Popular Sports and Disciplines"
   ]
  },
  {
   "cell_type": "code",
   "execution_count": 91,
   "id": "a9cd6201",
   "metadata": {},
   "outputs": [],
   "source": [
    "# Group by Sport and count the number of gold medals\n",
    "sport_gold_medals = df.groupby('Sport')['Medal'].count().sort_values(ascending=False)"
   ]
  },
  {
   "cell_type": "code",
   "execution_count": 92,
   "id": "1ad9f01d",
   "metadata": {},
   "outputs": [],
   "source": [
    "# Get the top 5 sports with the most gold medals\n",
    "top_sports = sport_gold_medals.head(5)"
   ]
  },
  {
   "cell_type": "code",
   "execution_count": 93,
   "id": "b913a3ea",
   "metadata": {},
   "outputs": [
    {
     "data": {
      "image/png": "[encoded data removed]",
      "text/plain": [
       "<Figure size 640x480 with 1 Axes>"
      ]
     },
     "metadata": {},
     "output_type": "display_data"
    }
   ],
   "source": [
    "# Create a horizontal bar plot\n",
    "plt.barh(top_sports.index, top_sports.values, color='gold')\n",
    "plt.xlabel('Number of Gold Medals')\n",
    "plt.ylabel('Sport')\n",
    "plt.title('Top 5 Sports with Most Gold Medals')\n",
    "plt.gca().invert_yaxis()  # Invert y-axis to have the sport with the most medals at the top\n",
    "plt.show()"
   ]
  },
  {
   "cell_type": "markdown",
   "id": "651386e9",
   "metadata": {},
   "source": [
    "This code will generate a horizontal bar plot displaying the top 5 sports with the most gold medals."
   ]
  },
  {
   "cell_type": "markdown",
   "id": "e544a1ae",
   "metadata": {},
   "source": [
    "### Domination in Specific Events:"
   ]
  },
  {
   "cell_type": "code",
   "execution_count": 88,
   "id": "d036f621",
   "metadata": {},
   "outputs": [],
   "source": [
    "# Group by Athlete and Event to identify duplicate occurrences\n",
    "athletes_events = df.groupby(['Athlete', 'Event'])['Year'].count().reset_index()"
   ]
  },
  {
   "cell_type": "code",
   "execution_count": 89,
   "id": "d60e687d",
   "metadata": {},
   "outputs": [],
   "source": [
    "# Filter for athletes who won the same event in multiple Olympics\n",
    "dominating_athletes = athletes_events[athletes_events['Year'] > 1]"
   ]
  },
  {
   "cell_type": "code",
   "execution_count": 90,
   "id": "c5ead934",
   "metadata": {},
   "outputs": [
    {
     "name": "stdout",
     "output_type": "stream",
     "text": [
      "Athletes who have dominated the same event across multiple Olympics:\n",
      "                    Athlete                                   Event  Year\n",
      "17      ABBAGNALE, Agostino  quadruple sculls without coxswain (4x)     2\n",
      "18       ABBAGNALE, Carmine     pair-oared shell with coxswain (2+)     3\n",
      "19      ABBAGNALE, Giuseppe     pair-oared shell with coxswain (2+)     3\n",
      "39          ABRAHAM, Attila                  K-4 1000m (kayak four)     2\n",
      "45          ABSALON, Julien                           cross-country     2\n",
      "...                     ...                                     ...   ...\n",
      "12917          ZOU, Shiming                  48kg (light flywieght)     2\n",
      "12931  ZUKAUSKAS, Eurelijus                              basketball     2\n",
      "12938       ZVEREVA, Ellina                            discus throw     2\n",
      "12945       ZWERVER, Ronald                              volleyball     2\n",
      "12951        ZYKINA, Olesya                            4x400m relay     2\n",
      "\n",
      "[1987 rows x 3 columns]\n"
     ]
    }
   ],
   "source": [
    "# Display the list of athletes and their dominating events\n",
    "print('Athletes who have dominated the same event across multiple Olympics:')\n",
    "print(dominating_athletes[['Athlete', 'Event', 'Year']])"
   ]
  },
  {
   "cell_type": "markdown",
   "id": "4e9cb531",
   "metadata": {},
   "source": [
    "This code snippet print out a list of athletes who have won the same event in multiple Olympics, along with the event name and the number of times they achieved this feat."
   ]
  },
  {
   "cell_type": "markdown",
   "id": "518d9a94",
   "metadata": {},
   "source": [
    "### Country Performance Oer Time"
   ]
  },
  {
   "cell_type": "code",
   "execution_count": 77,
   "id": "b5a2f864",
   "metadata": {},
   "outputs": [
    {
     "name": "stdout",
     "output_type": "stream",
     "text": [
      "Athlete\n",
      "PHELPS, Michael                  16\n",
      "TORRES, Dara                     12\n",
      "THOMPSON, Jenny                  12\n",
      "FISCHER, Birgit                  12\n",
      "ANDRIANOV, Nikolay               12\n",
      "                                 ..\n",
      "KIRKWOOD, James William           1\n",
      "LEJEUNE, Elisabeth Anne Marie     1\n",
      "WOLFF, Ingrid Imelda              1\n",
      "MEILING, Marc                     1\n",
      "LOPEZ, Mijain                     1\n",
      "Name: count, Length: 11337, dtype: int64\n"
     ]
    }
   ],
   "source": [
    "\n",
    "# Count the number of gold medals won by each athlete\n",
    "athlete_medal_counts = df['Athlete'].value_counts()\n",
    "print(athlete_medal_counts)"
   ]
  },
  {
   "cell_type": "code",
   "execution_count": 79,
   "id": "a63c3b5f",
   "metadata": {},
   "outputs": [
    {
     "name": "stdout",
     "output_type": "stream",
     "text": [
      "Athlete\n",
      "PHELPS, Michael           16\n",
      "TORRES, Dara              12\n",
      "THOMPSON, Jenny           12\n",
      "FISCHER, Birgit           12\n",
      "ANDRIANOV, Nikolay        12\n",
      "NEMOV, Alexei             12\n",
      "COUGHLIN, Natalie         11\n",
      "BIONDI, Matthew           11\n",
      "VAN ALMSICK, Franziska    10\n",
      "LEWIS, Carl               10\n",
      "Name: count, dtype: int64\n"
     ]
    }
   ],
   "source": [
    "# Get the top athletes with the most gold medals\n",
    "top_athletes = athlete_medal_counts.head(10)\n",
    "print(top_athletes)"
   ]
  },
  {
   "cell_type": "code",
   "execution_count": 82,
   "id": "e4db5ce4",
   "metadata": {},
   "outputs": [
    {
     "data": {
      "image/png": "[encoded data removed]",
      "text/plain": [
       "<Figure size 1000x600 with 1 Axes>"
      ]
     },
     "metadata": {},
     "output_type": "display_data"
    }
   ],
   "source": [
    "\n",
    "# Plot the distribution of gold medals among athletes\n",
    "plt.figure(figsize=(10, 6))\n",
    "sns.barplot(x=top_athletes.index, y=top_athletes.values, palette='viridis')\n",
    "plt.title('Top Athletes with Most Gold Medals')\n",
    "plt.xlabel('Athlete')\n",
    "plt.ylabel('Number of Gold Medals')\n",
    "plt.xticks(rotation=45, ha='right')\n",
    "plt.tight_layout()\n",
    "plt.show()"
   ]
  },
  {
   "cell_type": "markdown",
   "id": "e566fc97",
   "metadata": {},
   "source": [
    "count the number of gold medals won by each athlete, select the top athletes with the most gold medals, and then create a bar plot to visualize the distribution of gold medals among these top athletes. Adjust the number of top athletes and the visualization settings according to your preferences."
   ]
  },
  {
   "cell_type": "code",
   "execution_count": null,
   "id": "ad25a7a9",
   "metadata": {},
   "outputs": [],
   "source": []
  }
 ],
 "metadata": {
  "kernelspec": {
   "display_name": "Python 3 (ipykernel)",
   "language": "python",
   "name": "python3"
  },
  "language_info": {
   "codemirror_mode": {
    "name": "ipython",
    "version": 3
   },
   "file_extension": ".py",
   "mimetype": "text/x-python",
   "name": "python",
   "nbconvert_exporter": "python",
   "pygments_lexer": "ipython3",
   "version": "3.11.4"
  }
 },
 "nbformat": 4,
 "nbformat_minor": 5
}
