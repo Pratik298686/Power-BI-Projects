{
 "cells": [
  {
   "cell_type": "code",
   "execution_count": 30,
   "id": "7e55490a",
   "metadata": {},
   "outputs": [],
   "source": [
    "import pandas as pd"
   ]
  },
  {
   "cell_type": "code",
   "execution_count": 31,
   "id": "0b7c9409",
   "metadata": {},
   "outputs": [
    {
     "data": {
      "text/plain": [
       "Index(['ResponseId', 'Q120', 'MainBranch', 'Age', 'Employment', 'RemoteWork',\n",
       "       'CodingActivities', 'EdLevel', 'LearnCode', 'LearnCodeOnline',\n",
       "       'LearnCodeCoursesCert', 'YearsCode', 'YearsCodePro', 'DevType',\n",
       "       'OrgSize', 'PurchaseInfluence', 'TechList', 'BuyNewTool', 'Country',\n",
       "       'Currency', 'CompTotal', 'LanguageHaveWorkedWith',\n",
       "       'LanguageWantToWorkWith', 'DatabaseHaveWorkedWith',\n",
       "       'DatabaseWantToWorkWith', 'PlatformHaveWorkedWith',\n",
       "       'PlatformWantToWorkWith', 'WebframeHaveWorkedWith',\n",
       "       'WebframeWantToWorkWith', 'MiscTechHaveWorkedWith',\n",
       "       'MiscTechWantToWorkWith', 'ToolsTechHaveWorkedWith',\n",
       "       'ToolsTechWantToWorkWith', 'NEWCollabToolsHaveWorkedWith',\n",
       "       'NEWCollabToolsWantToWorkWith', 'OpSysPersonal use',\n",
       "       'OpSysProfessional use', 'OfficeStackAsyncHaveWorkedWith',\n",
       "       'OfficeStackAsyncWantToWorkWith', 'OfficeStackSyncHaveWorkedWith',\n",
       "       'OfficeStackSyncWantToWorkWith', 'AISearchHaveWorkedWith',\n",
       "       'AISearchWantToWorkWith', 'AIDevHaveWorkedWith', 'AIDevWantToWorkWith',\n",
       "       'NEWSOSites', 'SOVisitFreq', 'SOAccount', 'SOPartFreq', 'SOComm',\n",
       "       'SOAI', 'AISelect', 'AISent', 'AIAcc', 'AIBen',\n",
       "       'AIToolInterested in Using', 'AIToolCurrently Using',\n",
       "       'AIToolNot interested in Using', 'AINextVery different',\n",
       "       'AINextNeither different nor similar', 'AINextSomewhat similar',\n",
       "       'AINextVery similar', 'AINextSomewhat different', 'TBranch', 'ICorPM',\n",
       "       'WorkExp', 'Knowledge_1', 'Knowledge_2', 'Knowledge_3', 'Knowledge_4',\n",
       "       'Knowledge_5', 'Knowledge_6', 'Knowledge_7', 'Knowledge_8',\n",
       "       'Frequency_1', 'Frequency_2', 'Frequency_3', 'TimeSearching',\n",
       "       'TimeAnswering', 'ProfessionalTech', 'Industry', 'SurveyLength',\n",
       "       'SurveyEase', 'ConvertedCompYearly'],\n",
       "      dtype='object')"
      ]
     },
     "execution_count": 31,
     "metadata": {},
     "output_type": "execute_result"
    }
   ],
   "source": [
    "df1 = pd.read_csv('survey_results_public.csv')\n",
    "df = df1.copy()\n",
    "df.columns"
   ]
  },
  {
   "cell_type": "code",
   "execution_count": 38,
   "id": "9d781ede",
   "metadata": {},
   "outputs": [
    {
     "data": {
      "text/plain": [
       "(89184, 22)"
      ]
     },
     "execution_count": 38,
     "metadata": {},
     "output_type": "execute_result"
    }
   ],
   "source": [
    "df.shape"
   ]
  },
  {
   "cell_type": "markdown",
   "id": "22b7d279",
   "metadata": {},
   "source": [
    "### Clean data for better Analysis\n",
    "#### select relevant columns only\n",
    "#### Handle Duplicated & Null values"
   ]
  },
  {
   "cell_type": "code",
   "execution_count": 33,
   "id": "1c856a84",
   "metadata": {},
   "outputs": [
    {
     "data": {
      "text/plain": [
       "(89184, 22)"
      ]
     },
     "execution_count": 33,
     "metadata": {},
     "output_type": "execute_result"
    }
   ],
   "source": [
    "\n",
    "df = df[['ResponseId','MainBranch','Age', 'Employment', 'RemoteWork', 'EdLevel', 'YearsCode','DevType', 'Country', 'CompTotal', 'LanguageHaveWorkedWith', 'LanguageWantToWorkWith', 'DatabaseHaveWorkedWith', 'DatabaseWantToWorkWith', 'PlatformHaveWorkedWith', 'PlatformWantToWorkWith', 'WebframeHaveWorkedWith', 'WebframeWantToWorkWith', 'MiscTechHaveWorkedWith', 'MiscTechWantToWorkWith', 'ToolsTechHaveWorkedWith', 'ToolsTechWantToWorkWith']]\n",
    "df.shape"
   ]
  },
  {
   "cell_type": "code",
   "execution_count": 34,
   "id": "df6f9485",
   "metadata": {},
   "outputs": [
    {
     "data": {
      "text/html": [
       "<div>\n",
       "<style scoped>\n",
       "    .dataframe tbody tr th:only-of-type {\n",
       "        vertical-align: middle;\n",
       "    }\n",
       "\n",
       "    .dataframe tbody tr th {\n",
       "        vertical-align: top;\n",
       "    }\n",
       "\n",
       "    .dataframe thead th {\n",
       "        text-align: right;\n",
       "    }\n",
       "</style>\n",
       "<table border=\"1\" class=\"dataframe\">\n",
       "  <thead>\n",
       "    <tr style=\"text-align: right;\">\n",
       "      <th></th>\n",
       "      <th>ResponseId</th>\n",
       "      <th>MainBranch</th>\n",
       "      <th>Age</th>\n",
       "      <th>Employment</th>\n",
       "      <th>RemoteWork</th>\n",
       "      <th>EdLevel</th>\n",
       "      <th>YearsCode</th>\n",
       "      <th>DevType</th>\n",
       "      <th>Country</th>\n",
       "      <th>CompTotal</th>\n",
       "      <th>...</th>\n",
       "      <th>DatabaseHaveWorkedWith</th>\n",
       "      <th>DatabaseWantToWorkWith</th>\n",
       "      <th>PlatformHaveWorkedWith</th>\n",
       "      <th>PlatformWantToWorkWith</th>\n",
       "      <th>WebframeHaveWorkedWith</th>\n",
       "      <th>WebframeWantToWorkWith</th>\n",
       "      <th>MiscTechHaveWorkedWith</th>\n",
       "      <th>MiscTechWantToWorkWith</th>\n",
       "      <th>ToolsTechHaveWorkedWith</th>\n",
       "      <th>ToolsTechWantToWorkWith</th>\n",
       "    </tr>\n",
       "  </thead>\n",
       "  <tbody>\n",
       "    <tr>\n",
       "      <th>0</th>\n",
       "      <td>1</td>\n",
       "      <td>None of these</td>\n",
       "      <td>18-24 years old</td>\n",
       "      <td>NaN</td>\n",
       "      <td>NaN</td>\n",
       "      <td>NaN</td>\n",
       "      <td>NaN</td>\n",
       "      <td>NaN</td>\n",
       "      <td>NaN</td>\n",
       "      <td>NaN</td>\n",
       "      <td>...</td>\n",
       "      <td>NaN</td>\n",
       "      <td>NaN</td>\n",
       "      <td>NaN</td>\n",
       "      <td>NaN</td>\n",
       "      <td>NaN</td>\n",
       "      <td>NaN</td>\n",
       "      <td>NaN</td>\n",
       "      <td>NaN</td>\n",
       "      <td>NaN</td>\n",
       "      <td>NaN</td>\n",
       "    </tr>\n",
       "    <tr>\n",
       "      <th>1</th>\n",
       "      <td>2</td>\n",
       "      <td>I am a developer by profession</td>\n",
       "      <td>25-34 years old</td>\n",
       "      <td>Employed, full-time</td>\n",
       "      <td>Remote</td>\n",
       "      <td>Bachelor’s degree (B.A., B.S., B.Eng., etc.)</td>\n",
       "      <td>18</td>\n",
       "      <td>Senior Executive (C-Suite, VP, etc.)</td>\n",
       "      <td>United States of America</td>\n",
       "      <td>285000.0</td>\n",
       "      <td>...</td>\n",
       "      <td>Supabase</td>\n",
       "      <td>Firebase Realtime Database;Supabase</td>\n",
       "      <td>Amazon Web Services (AWS);Netlify;Vercel</td>\n",
       "      <td>Fly.io;Netlify;Render</td>\n",
       "      <td>Next.js;React;Remix;Vue.js</td>\n",
       "      <td>Deno;Elm;Nuxt.js;React;Svelte;Vue.js</td>\n",
       "      <td>Electron;React Native;Tauri</td>\n",
       "      <td>Capacitor;Electron;Tauri;Uno Platform;Xamarin</td>\n",
       "      <td>Docker;Kubernetes;npm;Pip;Vite;Webpack;Yarn</td>\n",
       "      <td>Godot;npm;pnpm;Unity 3D;Unreal Engine;Vite;Web...</td>\n",
       "    </tr>\n",
       "  </tbody>\n",
       "</table>\n",
       "<p>2 rows × 22 columns</p>\n",
       "</div>"
      ],
      "text/plain": [
       "   ResponseId                      MainBranch              Age  \\\n",
       "0           1                   None of these  18-24 years old   \n",
       "1           2  I am a developer by profession  25-34 years old   \n",
       "\n",
       "            Employment RemoteWork  \\\n",
       "0                  NaN        NaN   \n",
       "1  Employed, full-time     Remote   \n",
       "\n",
       "                                        EdLevel YearsCode  \\\n",
       "0                                           NaN       NaN   \n",
       "1  Bachelor’s degree (B.A., B.S., B.Eng., etc.)        18   \n",
       "\n",
       "                                DevType                   Country  CompTotal  \\\n",
       "0                                   NaN                       NaN        NaN   \n",
       "1  Senior Executive (C-Suite, VP, etc.)  United States of America   285000.0   \n",
       "\n",
       "   ... DatabaseHaveWorkedWith               DatabaseWantToWorkWith  \\\n",
       "0  ...                    NaN                                  NaN   \n",
       "1  ...               Supabase  Firebase Realtime Database;Supabase   \n",
       "\n",
       "                     PlatformHaveWorkedWith PlatformWantToWorkWith  \\\n",
       "0                                       NaN                    NaN   \n",
       "1  Amazon Web Services (AWS);Netlify;Vercel  Fly.io;Netlify;Render   \n",
       "\n",
       "       WebframeHaveWorkedWith                WebframeWantToWorkWith  \\\n",
       "0                         NaN                                   NaN   \n",
       "1  Next.js;React;Remix;Vue.js  Deno;Elm;Nuxt.js;React;Svelte;Vue.js   \n",
       "\n",
       "        MiscTechHaveWorkedWith                         MiscTechWantToWorkWith  \\\n",
       "0                          NaN                                            NaN   \n",
       "1  Electron;React Native;Tauri  Capacitor;Electron;Tauri;Uno Platform;Xamarin   \n",
       "\n",
       "                       ToolsTechHaveWorkedWith  \\\n",
       "0                                          NaN   \n",
       "1  Docker;Kubernetes;npm;Pip;Vite;Webpack;Yarn   \n",
       "\n",
       "                             ToolsTechWantToWorkWith  \n",
       "0                                                NaN  \n",
       "1  Godot;npm;pnpm;Unity 3D;Unreal Engine;Vite;Web...  \n",
       "\n",
       "[2 rows x 22 columns]"
      ]
     },
     "execution_count": 34,
     "metadata": {},
     "output_type": "execute_result"
    }
   ],
   "source": [
    "df.head(2)"
   ]
  },
  {
   "cell_type": "code",
   "execution_count": 35,
   "id": "d210272b",
   "metadata": {},
   "outputs": [
    {
     "name": "stdout",
     "output_type": "stream",
     "text": [
      "<class 'pandas.core.frame.DataFrame'>\n",
      "RangeIndex: 89184 entries, 0 to 89183\n",
      "Data columns (total 22 columns):\n",
      " #   Column                   Non-Null Count  Dtype  \n",
      "---  ------                   --------------  -----  \n",
      " 0   ResponseId               89184 non-null  int64  \n",
      " 1   MainBranch               89184 non-null  object \n",
      " 2   Age                      89184 non-null  object \n",
      " 3   Employment               87898 non-null  object \n",
      " 4   RemoteWork               73810 non-null  object \n",
      " 5   EdLevel                  87973 non-null  object \n",
      " 6   YearsCode                87435 non-null  object \n",
      " 7   DevType                  76872 non-null  object \n",
      " 8   Country                  87973 non-null  object \n",
      " 9   CompTotal                48225 non-null  float64\n",
      " 10  LanguageHaveWorkedWith   87140 non-null  object \n",
      " 11  LanguageWantToWorkWith   80709 non-null  object \n",
      " 12  DatabaseHaveWorkedWith   73435 non-null  object \n",
      " 13  DatabaseWantToWorkWith   60911 non-null  object \n",
      " 14  PlatformHaveWorkedWith   63628 non-null  object \n",
      " 15  PlatformWantToWorkWith   51308 non-null  object \n",
      " 16  WebframeHaveWorkedWith   66938 non-null  object \n",
      " 17  WebframeWantToWorkWith   56741 non-null  object \n",
      " 18  MiscTechHaveWorkedWith   57019 non-null  object \n",
      " 19  MiscTechWantToWorkWith   46848 non-null  object \n",
      " 20  ToolsTechHaveWorkedWith  77884 non-null  object \n",
      " 21  ToolsTechWantToWorkWith  68315 non-null  object \n",
      "dtypes: float64(1), int64(1), object(20)\n",
      "memory usage: 15.0+ MB\n"
     ]
    }
   ],
   "source": [
    "# check for null values\n",
    "df.info()"
   ]
  },
  {
   "cell_type": "code",
   "execution_count": 36,
   "id": "662fe1c7",
   "metadata": {},
   "outputs": [
    {
     "data": {
      "text/plain": [
       "MainBranch\n",
       "I am a developer by profession                                                           67237\n",
       "I am not primarily a developer, but I write code sometimes as part of my work/studies     8954\n",
       "I am learning to code                                                                     4961\n",
       "I code primarily as a hobby                                                               4960\n",
       "I used to be a developer by profession, but no longer am                                  1861\n",
       "None of these                                                                             1211\n",
       "Name: count, dtype: int64"
      ]
     },
     "execution_count": 36,
     "metadata": {},
     "output_type": "execute_result"
    }
   ],
   "source": [
    "df.MainBranch.value_counts()"
   ]
  },
  {
   "cell_type": "code",
   "execution_count": null,
   "id": "c15ea56b",
   "metadata": {},
   "outputs": [],
   "source": []
  }
 ],
 "metadata": {
  "kernelspec": {
   "display_name": "Python 3 (ipykernel)",
   "language": "python",
   "name": "python3"
  },
  "language_info": {
   "codemirror_mode": {
    "name": "ipython",
    "version": 3
   },
   "file_extension": ".py",
   "mimetype": "text/x-python",
   "name": "python",
   "nbconvert_exporter": "python",
   "pygments_lexer": "ipython3",
   "version": "3.11.4"
  }
 },
 "nbformat": 4,
 "nbformat_minor": 5
}
